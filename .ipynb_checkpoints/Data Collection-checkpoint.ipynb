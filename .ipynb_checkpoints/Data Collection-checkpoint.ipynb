{
 "cells": [
  {
   "cell_type": "markdown",
   "metadata": {},
   "source": [
    "# Data Collection\n",
    "This noteboook is responsible for (finish later)"
   ]
  },
  {
   "cell_type": "markdown",
   "metadata": {},
   "source": [
    "## Imports"
   ]
  },
  {
   "cell_type": "code",
   "execution_count": 1,
   "metadata": {
    "collapsed": true
   },
   "outputs": [],
   "source": [
    "#SQL connection and queries\n",
    "import MySQLdb as mdb\n",
    "#Connection failure exiting\n",
    "import sys\n",
    "#Getting current time (after data is scraped) for stream table\n",
    "from time import time, sleep\n",
    "#Scraping\n",
    "import urllib2\n",
    "#Web automation\n",
    "from selenium import webdriver\n",
    "from selenium.webdriver.common.by import By\n",
    "from selenium.webdriver.support.ui import WebDriverWait\n",
    "from selenium.webdriver.support import expected_conditions as EC"
   ]
  },
  {
   "cell_type": "markdown",
   "metadata": {},
   "source": [
    "## File data\n",
    "Below the database credentials are read in. These are used for logging into the database, creating the necessary tables (if not already created), and storing data."
   ]
  },
  {
   "cell_type": "code",
   "execution_count": 3,
   "metadata": {
    "collapsed": true
   },
   "outputs": [],
   "source": [
    "db_user = \"\"\n",
    "db_pass = \"\"\n",
    "db_name = \"\"\n",
    "db_host = \"localhost\"\n",
    "with open(\"database_credentials.txt\") as f:\n",
    "    db_user = f.readline().strip()\n",
    "    db_pass = f.readline().strip()\n",
    "    db_name = f.readline().strip()"
   ]
  },
  {
   "cell_type": "markdown",
   "metadata": {},
   "source": [
    "## Database"
   ]
  },
  {
   "cell_type": "markdown",
   "metadata": {},
   "source": [
    "### Table Creation\n",
    "The below functions create the necessary tables for data storage if they do not already exist."
   ]
  },
  {
   "cell_type": "code",
   "execution_count": 4,
   "metadata": {},
   "outputs": [
    {
     "name": "stderr",
     "output_type": "stream",
     "text": [
      "C:\\Users\\unknown\\AppData\\Local\\conda\\conda\\envs\\twitch_views\\lib\\site-packages\\ipykernel_launcher.py:13: Warning: Table 'tweets' already exists\n",
      "  del sys.path[0]\n"
     ]
    }
   ],
   "source": [
    "con = mdb.connect(host=db_host, user=db_user, passwd=db_pass, db=db_name)\n",
    "\n",
    "with con:\n",
    "    cur = con.cursor()\n",
    "\n",
    "    #Twitch game/creative/irl categories\n",
    "    sql = \"\"\"\n",
    "    CREATE TABLE IF NOT EXISTS tweets (\n",
    "        id INT PRIMARY KEY AUTO_INCREMENT,\n",
    "        message VARCHAR(255) NOT NULL UNIQUE\n",
    "    )\n",
    "    \"\"\"\n",
    "    cur.execute(sql)\n",
    "#create_tables()"
   ]
  },
  {
   "cell_type": "markdown",
   "metadata": {},
   "source": [
    "### URL strings"
   ]
  },
  {
   "cell_type": "code",
   "execution_count": 5,
   "metadata": {
    "collapsed": true
   },
   "outputs": [],
   "source": [
    "#String for vieweing all current streams for a specified category\n",
    "twitter_string = \"https://twitter.com/realdonaldtrump\""
   ]
  },
  {
   "cell_type": "markdown",
   "metadata": {},
   "source": [
    "## Data collection"
   ]
  },
  {
   "cell_type": "markdown",
   "metadata": {},
   "source": [
    "### Functional output separation\n",
    "The below code just prints out visual separation when the loop is performing different tasks. Separation is used to divide output by category, scraping, and writing."
   ]
  },
  {
   "cell_type": "code",
   "execution_count": 6,
   "metadata": {
    "collapsed": true
   },
   "outputs": [],
   "source": [
    "def output_separation(phrase, sep_char, border_height, border_width):\n",
    "    \"\"\"\n",
    "    This funciton provides the following functionality:\n",
    "        output_separation(\"hi\", \"|\", 3, 10) yields\n",
    "        ||||||||||\n",
    "        ||||||||||\n",
    "        ||||||||||\n",
    "        ||||hi||||\n",
    "        ||||||||||\n",
    "        ||||||||||\n",
    "        ||||||||||\n",
    "    Note that sep_char must be a single character.\n",
    "    \"\"\"\n",
    "    for i in range(border_height):\n",
    "        print(sep_char*border_width)\n",
    "    print(phrase.center(border_width, sep_char))\n",
    "    for i in range(border_height):\n",
    "        print(sep_char*border_width)"
   ]
  },
  {
   "cell_type": "markdown",
   "metadata": {},
   "source": [
    "### Scraping\n",
    "(finish later)"
   ]
  },
  {
   "cell_type": "code",
   "execution_count": 11,
   "metadata": {
    "scrolled": false
   },
   "outputs": [
    {
     "name": "stdout",
     "output_type": "stream",
     "text": [
      "Tweet count: 119\n",
      "Tweet count: 277\n",
      "Tweet count: 450\n"
     ]
    },
    {
     "ename": "NoSuchWindowException",
     "evalue": "Message: no such window: target window already closed\nfrom unknown error: web view not found\n  (Session info: chrome=64.0.3282.186)\n  (Driver info: chromedriver=2.35.528161 (5b82f2d2aae0ca24b877009200ced9065a772e73),platform=Windows NT 10.0.16299 x86_64)\n",
     "output_type": "error",
     "traceback": [
      "\u001b[1;31m---------------------------------------------------------------------------\u001b[0m",
      "\u001b[1;31mNoSuchWindowException\u001b[0m                     Traceback (most recent call last)",
      "\u001b[1;32m<ipython-input-11-3d82d1261fa5>\u001b[0m in \u001b[0;36m<module>\u001b[1;34m()\u001b[0m\n\u001b[0;32m     20\u001b[0m         \u001b[0msleep\u001b[0m\u001b[1;33m(\u001b[0m\u001b[0mtime_between_scrolls\u001b[0m\u001b[1;33m)\u001b[0m\u001b[1;33m\u001b[0m\u001b[0m\n\u001b[0;32m     21\u001b[0m     \u001b[1;31m#Get tweets\u001b[0m\u001b[1;33m\u001b[0m\u001b[1;33m\u001b[0m\u001b[0m\n\u001b[1;32m---> 22\u001b[1;33m     \u001b[0mtweets\u001b[0m \u001b[1;33m=\u001b[0m \u001b[0mmap\u001b[0m\u001b[1;33m(\u001b[0m\u001b[1;32mlambda\u001b[0m \u001b[0me\u001b[0m \u001b[1;33m:\u001b[0m \u001b[0me\u001b[0m\u001b[1;33m.\u001b[0m\u001b[0mget_attribute\u001b[0m\u001b[1;33m(\u001b[0m\u001b[1;34m\"innerHTML\"\u001b[0m\u001b[1;33m)\u001b[0m\u001b[1;33m,\u001b[0m \u001b[0mdriver\u001b[0m\u001b[1;33m.\u001b[0m\u001b[0mfind_elements_by_class_name\u001b[0m\u001b[1;33m(\u001b[0m\u001b[1;34m\"js-tweet-text\"\u001b[0m\u001b[1;33m)\u001b[0m\u001b[1;33m)\u001b[0m\u001b[1;33m\u001b[0m\u001b[0m\n\u001b[0m\u001b[0;32m     23\u001b[0m     \u001b[1;31m#Didn't scroll at all despite attempts, so all tweets (hyptohetically, but probs not) collected\u001b[0m\u001b[1;33m\u001b[0m\u001b[1;33m\u001b[0m\u001b[0m\n\u001b[0;32m     24\u001b[0m     \u001b[1;32mif\u001b[0m \u001b[0mbody\u001b[0m\u001b[1;33m.\u001b[0m\u001b[0mget_attribute\u001b[0m\u001b[1;33m(\u001b[0m\u001b[1;34m\"scrollHeight\"\u001b[0m\u001b[1;33m)\u001b[0m \u001b[1;33m==\u001b[0m \u001b[0mprevious_body_height\u001b[0m\u001b[1;33m:\u001b[0m\u001b[1;33m\u001b[0m\u001b[0m\n",
      "\u001b[1;32m<ipython-input-11-3d82d1261fa5>\u001b[0m in \u001b[0;36m<lambda>\u001b[1;34m(e)\u001b[0m\n\u001b[0;32m     20\u001b[0m         \u001b[0msleep\u001b[0m\u001b[1;33m(\u001b[0m\u001b[0mtime_between_scrolls\u001b[0m\u001b[1;33m)\u001b[0m\u001b[1;33m\u001b[0m\u001b[0m\n\u001b[0;32m     21\u001b[0m     \u001b[1;31m#Get tweets\u001b[0m\u001b[1;33m\u001b[0m\u001b[1;33m\u001b[0m\u001b[0m\n\u001b[1;32m---> 22\u001b[1;33m     \u001b[0mtweets\u001b[0m \u001b[1;33m=\u001b[0m \u001b[0mmap\u001b[0m\u001b[1;33m(\u001b[0m\u001b[1;32mlambda\u001b[0m \u001b[0me\u001b[0m \u001b[1;33m:\u001b[0m \u001b[0me\u001b[0m\u001b[1;33m.\u001b[0m\u001b[0mget_attribute\u001b[0m\u001b[1;33m(\u001b[0m\u001b[1;34m\"innerHTML\"\u001b[0m\u001b[1;33m)\u001b[0m\u001b[1;33m,\u001b[0m \u001b[0mdriver\u001b[0m\u001b[1;33m.\u001b[0m\u001b[0mfind_elements_by_class_name\u001b[0m\u001b[1;33m(\u001b[0m\u001b[1;34m\"js-tweet-text\"\u001b[0m\u001b[1;33m)\u001b[0m\u001b[1;33m)\u001b[0m\u001b[1;33m\u001b[0m\u001b[0m\n\u001b[0m\u001b[0;32m     23\u001b[0m     \u001b[1;31m#Didn't scroll at all despite attempts, so all tweets (hyptohetically, but probs not) collected\u001b[0m\u001b[1;33m\u001b[0m\u001b[1;33m\u001b[0m\u001b[0m\n\u001b[0;32m     24\u001b[0m     \u001b[1;32mif\u001b[0m \u001b[0mbody\u001b[0m\u001b[1;33m.\u001b[0m\u001b[0mget_attribute\u001b[0m\u001b[1;33m(\u001b[0m\u001b[1;34m\"scrollHeight\"\u001b[0m\u001b[1;33m)\u001b[0m \u001b[1;33m==\u001b[0m \u001b[0mprevious_body_height\u001b[0m\u001b[1;33m:\u001b[0m\u001b[1;33m\u001b[0m\u001b[0m\n",
      "\u001b[1;32mC:\\Users\\unknown\\AppData\\Local\\conda\\conda\\envs\\twitch_views\\lib\\site-packages\\selenium\\webdriver\\remote\\webelement.pyc\u001b[0m in \u001b[0;36mget_attribute\u001b[1;34m(self, name)\u001b[0m\n\u001b[0;32m    141\u001b[0m                 self, name)\n\u001b[0;32m    142\u001b[0m         \u001b[1;32melse\u001b[0m\u001b[1;33m:\u001b[0m\u001b[1;33m\u001b[0m\u001b[0m\n\u001b[1;32m--> 143\u001b[1;33m             \u001b[0mresp\u001b[0m \u001b[1;33m=\u001b[0m \u001b[0mself\u001b[0m\u001b[1;33m.\u001b[0m\u001b[0m_execute\u001b[0m\u001b[1;33m(\u001b[0m\u001b[0mCommand\u001b[0m\u001b[1;33m.\u001b[0m\u001b[0mGET_ELEMENT_ATTRIBUTE\u001b[0m\u001b[1;33m,\u001b[0m \u001b[1;33m{\u001b[0m\u001b[1;34m'name'\u001b[0m\u001b[1;33m:\u001b[0m \u001b[0mname\u001b[0m\u001b[1;33m}\u001b[0m\u001b[1;33m)\u001b[0m\u001b[1;33m\u001b[0m\u001b[0m\n\u001b[0m\u001b[0;32m    144\u001b[0m             \u001b[0mattributeValue\u001b[0m \u001b[1;33m=\u001b[0m \u001b[0mresp\u001b[0m\u001b[1;33m.\u001b[0m\u001b[0mget\u001b[0m\u001b[1;33m(\u001b[0m\u001b[1;34m'value'\u001b[0m\u001b[1;33m)\u001b[0m\u001b[1;33m\u001b[0m\u001b[0m\n\u001b[0;32m    145\u001b[0m             \u001b[1;32mif\u001b[0m \u001b[0mattributeValue\u001b[0m \u001b[1;32mis\u001b[0m \u001b[1;32mnot\u001b[0m \u001b[0mNone\u001b[0m\u001b[1;33m:\u001b[0m\u001b[1;33m\u001b[0m\u001b[0m\n",
      "\u001b[1;32mC:\\Users\\unknown\\AppData\\Local\\conda\\conda\\envs\\twitch_views\\lib\\site-packages\\selenium\\webdriver\\remote\\webelement.pyc\u001b[0m in \u001b[0;36m_execute\u001b[1;34m(self, command, params)\u001b[0m\n\u001b[0;32m    626\u001b[0m             \u001b[0mparams\u001b[0m \u001b[1;33m=\u001b[0m \u001b[1;33m{\u001b[0m\u001b[1;33m}\u001b[0m\u001b[1;33m\u001b[0m\u001b[0m\n\u001b[0;32m    627\u001b[0m         \u001b[0mparams\u001b[0m\u001b[1;33m[\u001b[0m\u001b[1;34m'id'\u001b[0m\u001b[1;33m]\u001b[0m \u001b[1;33m=\u001b[0m \u001b[0mself\u001b[0m\u001b[1;33m.\u001b[0m\u001b[0m_id\u001b[0m\u001b[1;33m\u001b[0m\u001b[0m\n\u001b[1;32m--> 628\u001b[1;33m         \u001b[1;32mreturn\u001b[0m \u001b[0mself\u001b[0m\u001b[1;33m.\u001b[0m\u001b[0m_parent\u001b[0m\u001b[1;33m.\u001b[0m\u001b[0mexecute\u001b[0m\u001b[1;33m(\u001b[0m\u001b[0mcommand\u001b[0m\u001b[1;33m,\u001b[0m \u001b[0mparams\u001b[0m\u001b[1;33m)\u001b[0m\u001b[1;33m\u001b[0m\u001b[0m\n\u001b[0m\u001b[0;32m    629\u001b[0m \u001b[1;33m\u001b[0m\u001b[0m\n\u001b[0;32m    630\u001b[0m     \u001b[1;32mdef\u001b[0m \u001b[0mfind_element\u001b[0m\u001b[1;33m(\u001b[0m\u001b[0mself\u001b[0m\u001b[1;33m,\u001b[0m \u001b[0mby\u001b[0m\u001b[1;33m=\u001b[0m\u001b[0mBy\u001b[0m\u001b[1;33m.\u001b[0m\u001b[0mID\u001b[0m\u001b[1;33m,\u001b[0m \u001b[0mvalue\u001b[0m\u001b[1;33m=\u001b[0m\u001b[0mNone\u001b[0m\u001b[1;33m)\u001b[0m\u001b[1;33m:\u001b[0m\u001b[1;33m\u001b[0m\u001b[0m\n",
      "\u001b[1;32mC:\\Users\\unknown\\AppData\\Local\\conda\\conda\\envs\\twitch_views\\lib\\site-packages\\selenium\\webdriver\\remote\\webdriver.pyc\u001b[0m in \u001b[0;36mexecute\u001b[1;34m(self, driver_command, params)\u001b[0m\n\u001b[0;32m    310\u001b[0m         \u001b[0mresponse\u001b[0m \u001b[1;33m=\u001b[0m \u001b[0mself\u001b[0m\u001b[1;33m.\u001b[0m\u001b[0mcommand_executor\u001b[0m\u001b[1;33m.\u001b[0m\u001b[0mexecute\u001b[0m\u001b[1;33m(\u001b[0m\u001b[0mdriver_command\u001b[0m\u001b[1;33m,\u001b[0m \u001b[0mparams\u001b[0m\u001b[1;33m)\u001b[0m\u001b[1;33m\u001b[0m\u001b[0m\n\u001b[0;32m    311\u001b[0m         \u001b[1;32mif\u001b[0m \u001b[0mresponse\u001b[0m\u001b[1;33m:\u001b[0m\u001b[1;33m\u001b[0m\u001b[0m\n\u001b[1;32m--> 312\u001b[1;33m             \u001b[0mself\u001b[0m\u001b[1;33m.\u001b[0m\u001b[0merror_handler\u001b[0m\u001b[1;33m.\u001b[0m\u001b[0mcheck_response\u001b[0m\u001b[1;33m(\u001b[0m\u001b[0mresponse\u001b[0m\u001b[1;33m)\u001b[0m\u001b[1;33m\u001b[0m\u001b[0m\n\u001b[0m\u001b[0;32m    313\u001b[0m             response['value'] = self._unwrap_value(\n\u001b[0;32m    314\u001b[0m                 response.get('value', None))\n",
      "\u001b[1;32mC:\\Users\\unknown\\AppData\\Local\\conda\\conda\\envs\\twitch_views\\lib\\site-packages\\selenium\\webdriver\\remote\\errorhandler.pyc\u001b[0m in \u001b[0;36mcheck_response\u001b[1;34m(self, response)\u001b[0m\n\u001b[0;32m    240\u001b[0m                 \u001b[0malert_text\u001b[0m \u001b[1;33m=\u001b[0m \u001b[0mvalue\u001b[0m\u001b[1;33m[\u001b[0m\u001b[1;34m'alert'\u001b[0m\u001b[1;33m]\u001b[0m\u001b[1;33m.\u001b[0m\u001b[0mget\u001b[0m\u001b[1;33m(\u001b[0m\u001b[1;34m'text'\u001b[0m\u001b[1;33m)\u001b[0m\u001b[1;33m\u001b[0m\u001b[0m\n\u001b[0;32m    241\u001b[0m             \u001b[1;32mraise\u001b[0m \u001b[0mexception_class\u001b[0m\u001b[1;33m(\u001b[0m\u001b[0mmessage\u001b[0m\u001b[1;33m,\u001b[0m \u001b[0mscreen\u001b[0m\u001b[1;33m,\u001b[0m \u001b[0mstacktrace\u001b[0m\u001b[1;33m,\u001b[0m \u001b[0malert_text\u001b[0m\u001b[1;33m)\u001b[0m\u001b[1;33m\u001b[0m\u001b[0m\n\u001b[1;32m--> 242\u001b[1;33m         \u001b[1;32mraise\u001b[0m \u001b[0mexception_class\u001b[0m\u001b[1;33m(\u001b[0m\u001b[0mmessage\u001b[0m\u001b[1;33m,\u001b[0m \u001b[0mscreen\u001b[0m\u001b[1;33m,\u001b[0m \u001b[0mstacktrace\u001b[0m\u001b[1;33m)\u001b[0m\u001b[1;33m\u001b[0m\u001b[0m\n\u001b[0m\u001b[0;32m    243\u001b[0m \u001b[1;33m\u001b[0m\u001b[0m\n\u001b[0;32m    244\u001b[0m     \u001b[1;32mdef\u001b[0m \u001b[0m_value_or_default\u001b[0m\u001b[1;33m(\u001b[0m\u001b[0mself\u001b[0m\u001b[1;33m,\u001b[0m \u001b[0mobj\u001b[0m\u001b[1;33m,\u001b[0m \u001b[0mkey\u001b[0m\u001b[1;33m,\u001b[0m \u001b[0mdefault\u001b[0m\u001b[1;33m)\u001b[0m\u001b[1;33m:\u001b[0m\u001b[1;33m\u001b[0m\u001b[0m\n",
      "\u001b[1;31mNoSuchWindowException\u001b[0m: Message: no such window: target window already closed\nfrom unknown error: web view not found\n  (Session info: chrome=64.0.3282.186)\n  (Driver info: chromedriver=2.35.528161 (5b82f2d2aae0ca24b877009200ced9065a772e73),platform=Windows NT 10.0.16299 x86_64)\n"
     ]
    }
   ],
   "source": [
    "#Spin up browser\n",
    "driver = webdriver.Chrome()\n",
    "driver.get(twitter_string)\n",
    "\n",
    "#Scrolls per attempt\n",
    "scrolls_per_attempt = 10\n",
    "#Time between scrolls (wait for tweets to load)\n",
    "time_between_scrolls = 0.25\n",
    "\n",
    "scroll_script = \"\"\"\n",
    "window.scrollTo(0, document.body.scrollHeight);\n",
    "\"\"\"\n",
    "while True:\n",
    "    #Previous scrollable height (stopping condition comparator)\n",
    "    body = driver.find_element_by_tag_name(\"body\")\n",
    "    previous_body_height = body.get_attribute(\"scrollHeight\")\n",
    "    #Scroll\n",
    "    for i in range(0, scrolls_per_attempt):\n",
    "        driver.execute_script(scroll_script)\n",
    "        sleep(time_between_scrolls)\n",
    "    #Get tweets\n",
    "    tweets = map(lambda e : e.get_attribute(\"innerHTML\"), driver.find_elements_by_class_name(\"js-tweet-text\"))\n",
    "    #Didn't scroll at all despite attempts, so all tweets (hyptohetically, but probs not) collected\n",
    "    if body.get_attribute(\"scrollHeight\") == previous_body_height:\n",
    "        print(\"All tweets collected\")\n",
    "        break\n",
    "    else:\n",
    "        print(\"Tweet count: {}\".format(len(tweets)))\n",
    "#Close browser\n",
    "driver.close()"
   ]
  },
  {
   "cell_type": "code",
   "execution_count": 35,
   "metadata": {},
   "outputs": [
    {
     "data": {
      "text/plain": [
       "u'<a href=\"https://t.co/sERi7Vyh5I\" rel=\"nofollow noopener\" dir=\"ltr\" data-expanded-url=\"https://twitter.com/FoxNews/status/967513412598222848?ref_src=twcamp%5Eshare%7Ctwsrc%5Em5%7Ctwgr%5Eemail%7Ctwcon%5E7046%7Ctwterm%5E3\" class=\"twitter-timeline-link u-hidden\" target=\"_blank\" title=\"https://twitter.com/FoxNews/status/967513412598222848?ref_src=twcamp%5Eshare%7Ctwsrc%5Em5%7Ctwgr%5Eemail%7Ctwcon%5E7046%7Ctwterm%5E3\"><span class=\"tco-ellipsis\"></span><span class=\"invisible\">https://</span><span class=\"js-display-url\">twitter.com/FoxNews/status</span><span class=\"invisible\">/967513412598222848?ref_src=twcamp%5Eshare%7Ctwsrc%5Em5%7Ctwgr%5Eemail%7Ctwcon%5E7046%7Ctwterm%5E3</span><span class=\"tco-ellipsis\"><span class=\"invisible\">&nbsp;</span>\\u2026</span></a>'"
      ]
     },
     "execution_count": 35,
     "metadata": {},
     "output_type": "execute_result"
    }
   ],
   "source": [
    "tweets[65]"
   ]
  },
  {
   "cell_type": "code",
   "execution_count": 22,
   "metadata": {
    "collapsed": true
   },
   "outputs": [],
   "source": [
    "first_time = time()"
   ]
  },
  {
   "cell_type": "code",
   "execution_count": 23,
   "metadata": {
    "scrolled": false
   },
   "outputs": [
    {
     "name": "stdout",
     "output_type": "stream",
     "text": [
      "                                                                        \n",
      "                                                                        \n",
      "                                                                        \n",
      "                                                                        \n",
      "                                                                        \n",
      "                                                                        \n",
      "                                                                        \n",
      "                                                                        \n",
      "                           pokémon red/blue                            \n",
      "                                                                        \n",
      "                                                                        \n",
      "                                                                        \n",
      "                                                                        \n",
      "                                                                        \n",
      "                                                                        \n",
      "                                                                        \n",
      "                                                                        \n",
      "||||||||||||||||||||||||||||||||||||||||||||||||||||||||||||||||||||||||\n",
      "||||||||||||||||||||||||||||||||||||||||||||||||||||||||||||||||||||||||\n",
      "||||||||||||||||||||||||||||||||||||||||||||||||||||||||||||||||||||||||\n",
      "||||||||||||||||||||||||||||||||||||||||||||||||||||||||||||||||||||||||\n",
      "||||||||||||||||||||||||COLLECTING STREAM EVENTS||||||||||||||||||||||||\n",
      "||||||||||||||||||||||||||||||||||||||||||||||||||||||||||||||||||||||||\n",
      "||||||||||||||||||||||||||||||||||||||||||||||||||||||||||||||||||||||||\n",
      "||||||||||||||||||||||||||||||||||||||||||||||||||||||||||||||||||||||||\n",
      "||||||||||||||||||||||||||||||||||||||||||||||||||||||||||||||||||||||||\n",
      "###########################SCROLLING FOR 2.5s###########################\n",
      "###########################SCROLLING FOR 2.5s###########################\n",
      "~~~~~~~~~~~~~~~~~~~~~~~~~~~~~~~~~~~~~~~~~~~~~~~~~~~~~~~~~~~~~~~~~~~~~~~~\n",
      "~~~~~~~~~~~~~~~~RETRIEVAL AND UNWRAPPING: 6.6850001812s~~~~~~~~~~~~~~~~~\n",
      "~~~~~~~~~~~~~~~~~~~~~~~~~~~~~~~~~~~~~~~~~~~~~~~~~~~~~~~~~~~~~~~~~~~~~~~~\n",
      "------------------------------------------------------------------------\n",
      "------------------------------------------------------------------------\n",
      "------------------------------------------------------------------------\n",
      "------------------------------------------------------------------------\n",
      "--------------------------SCRAPING STREAM DATA--------------------------\n",
      "------------------------------------------------------------------------\n",
      "------------------------------------------------------------------------\n",
      "------------------------------------------------------------------------\n",
      "------------------------------------------------------------------------\n",
      "imdajess                               [DONE]\n",
      "\tfollowers: 312\n",
      "\tcurrent_viewers: 16\n",
      "\ttotal_views: 1593\n",
      "PokeBotSpeedRuns                       [DONE]\n",
      "\tfollowers: 1365\n",
      "\tcurrent_viewers: 13\n",
      "\ttotal_views: 18546\n",
      "Overtyr                                [DONE]\n",
      "\tfollowers: 68\n",
      "\tcurrent_viewers: 5\n",
      "\ttotal_views: 1134\n",
      "LTistheJR                              [DONE]\n",
      "\tfollowers: 176\n",
      "\tcurrent_viewers: 3\n",
      "\ttotal_views: 3962\n",
      "Damagak                                [DONE]\n",
      "\tfollowers: 154\n",
      "\tcurrent_viewers: 3\n",
      "\ttotal_views: 9784\n",
      "xHeadbob                               [DONE]\n",
      "\tfollowers: 31\n",
      "\tcurrent_viewers: 2\n",
      "\ttotal_views: 578\n",
      "MHFsilver                              [DONE]\n",
      "\tfollowers: 1193\n",
      "\tcurrent_viewers: 2\n",
      "\ttotal_views: 22198\n",
      "NotVeryG                               [DONE]\n",
      "\tfollowers: 2\n",
      "\tcurrent_viewers: 1\n",
      "\ttotal_views: 23\n",
      "McEpic                                 [DONE]\n",
      "\tfollowers: 93\n",
      "\tcurrent_viewers: 0\n",
      "\ttotal_views: 741\n",
      "franchewbacca                          [DONE]\n",
      "\tfollowers: 70\n",
      "\tcurrent_viewers: 0\n",
      "\ttotal_views: 1031\n",
      "WonderJ13                              [DONE]\n",
      "\tfollowers: 205\n",
      "\tcurrent_viewers: 0\n",
      "\ttotal_views: 11202\n",
      "MrPottsWith2Ts                         [DONE]\n",
      "\tfollowers: 49\n",
      "\tcurrent_viewers: 0\n",
      "\ttotal_views: 1384\n",
      "VexatiousV                             [DONE]\n",
      "\tfollowers: 212\n",
      "\tcurrent_viewers: 0\n",
      "\ttotal_views: 1709\n",
      "TwitchPlaysPokemonRetro                [DONE]\n",
      "\tfollowers: 137\n",
      "\tcurrent_viewers: 0\n",
      "\ttotal_views: 3337\n",
      "reinyan_channel                        [DONE]\n",
      "\tfollowers: 107\n",
      "\tcurrent_viewers: 1\n",
      "\ttotal_views: 164357\n",
      "************************************************************************\n",
      "************************************************************************\n",
      "************************************************************************\n",
      "************************************************************************\n",
      "**********************STORING EVENTS AND STREAMERS**********************\n",
      "************************************************************************\n",
      "************************************************************************\n",
      "************************************************************************\n",
      "************************************************************************\n",
      "Damagak                                [OKAY]\n",
      "TwitchPlaysPokemonRetro                [OKAY]\n",
      "MHFsilver                              [OKAY]\n",
      "VexatiousV                             [OKAY]\n",
      "McEpic                                 [OKAY]\n",
      "MrPottsWith2Ts                         [OKAY]\n",
      "franchewbacca                          [OKAY]\n",
      "WonderJ13                              [OKAY]\n",
      "imdajess                               [OKAY]\n",
      "xHeadbob                               [OKAY]\n",
      "LTistheJR                              [OKAY]\n",
      "NotVeryG                               [OKAY]\n",
      "reinyan_channel                        [OKAY]\n",
      "Overtyr                                [OKAY]\n",
      "PokeBotSpeedRuns                       [OKAY]\n",
      "                                                                        \n",
      "                                                                        \n",
      "                                                                        \n",
      "                                                                        \n",
      "                                                                        \n",
      "                                                                        \n",
      "                                                                        \n",
      "                                                                        \n",
      "                          Pokémon black/white                          \n",
      "                                                                        \n",
      "                                                                        \n",
      "                                                                        \n",
      "                                                                        \n",
      "                                                                        \n",
      "                                                                        \n",
      "                                                                        \n",
      "                                                                        \n",
      "||||||||||||||||||||||||||||||||||||||||||||||||||||||||||||||||||||||||\n",
      "||||||||||||||||||||||||||||||||||||||||||||||||||||||||||||||||||||||||\n",
      "||||||||||||||||||||||||||||||||||||||||||||||||||||||||||||||||||||||||\n",
      "||||||||||||||||||||||||||||||||||||||||||||||||||||||||||||||||||||||||\n",
      "||||||||||||||||||||||||COLLECTING STREAM EVENTS||||||||||||||||||||||||\n",
      "||||||||||||||||||||||||||||||||||||||||||||||||||||||||||||||||||||||||\n",
      "||||||||||||||||||||||||||||||||||||||||||||||||||||||||||||||||||||||||\n",
      "||||||||||||||||||||||||||||||||||||||||||||||||||||||||||||||||||||||||\n",
      "||||||||||||||||||||||||||||||||||||||||||||||||||||||||||||||||||||||||\n",
      "###########################SCROLLING FOR 2.5s###########################\n",
      "###########################SCROLLING FOR 2.5s###########################\n",
      "~~~~~~~~~~~~~~~~~~~~~~~~~~~~~~~~~~~~~~~~~~~~~~~~~~~~~~~~~~~~~~~~~~~~~~~~\n",
      "~~~~~~~~~~~~~~~~RETRIEVAL AND UNWRAPPING: 5.99900007248s~~~~~~~~~~~~~~~~\n",
      "~~~~~~~~~~~~~~~~~~~~~~~~~~~~~~~~~~~~~~~~~~~~~~~~~~~~~~~~~~~~~~~~~~~~~~~~\n",
      "------------------------------------------------------------------------\n",
      "------------------------------------------------------------------------\n",
      "------------------------------------------------------------------------\n",
      "------------------------------------------------------------------------\n",
      "--------------------------SCRAPING STREAM DATA--------------------------\n",
      "------------------------------------------------------------------------\n",
      "------------------------------------------------------------------------\n",
      "------------------------------------------------------------------------\n",
      "------------------------------------------------------------------------\n"
     ]
    },
    {
     "name": "stdout",
     "output_type": "stream",
     "text": [
      "Zomby_Goast                            [DONE]\n",
      "\tfollowers: 17\n",
      "\tcurrent_viewers: 2\n",
      "\ttotal_views: 262\n",
      "TheOnlyXanzu                           [DONE]\n",
      "\tfollowers: 57\n",
      "\tcurrent_viewers: 2\n",
      "\ttotal_views: 2013\n",
      "Kei_SiLiC                              [DONE]\n",
      "\tfollowers: 14\n",
      "\tcurrent_viewers: 0\n",
      "\ttotal_views: 229\n",
      "************************************************************************\n",
      "************************************************************************\n",
      "************************************************************************\n",
      "************************************************************************\n",
      "**********************STORING EVENTS AND STREAMERS**********************\n",
      "************************************************************************\n",
      "************************************************************************\n",
      "************************************************************************\n",
      "************************************************************************\n"
     ]
    },
    {
     "ename": "IntegrityError",
     "evalue": "(1452, 'Cannot add or update a child row: a foreign key constraint fails (`proj`.`streams`, CONSTRAINT `streams_ibfk_2` FOREIGN KEY (`category_id`) REFERENCES `categories` (`id`) ON DELETE CASCADE)')",
     "output_type": "error",
     "traceback": [
      "\u001b[1;31m---------------------------------------------------------------------------\u001b[0m",
      "\u001b[1;31mIntegrityError\u001b[0m                            Traceback (most recent call last)",
      "\u001b[1;32m<ipython-input-23-c53b3d63eef4>\u001b[0m in \u001b[0;36m<module>\u001b[1;34m()\u001b[0m\n\u001b[0;32m    164\u001b[0m                 \u001b[0mstreamer_id\u001b[0m\u001b[1;33m,\u001b[0m\u001b[1;33m\u001b[0m\u001b[0m\n\u001b[0;32m    165\u001b[0m                 category_id)\n\u001b[1;32m--> 166\u001b[1;33m             \u001b[0mcur\u001b[0m\u001b[1;33m.\u001b[0m\u001b[0mexecute\u001b[0m\u001b[1;33m(\u001b[0m\u001b[0msql\u001b[0m\u001b[1;33m)\u001b[0m\u001b[1;33m\u001b[0m\u001b[0m\n\u001b[0m\u001b[0;32m    167\u001b[0m \u001b[1;33m\u001b[0m\u001b[0m\n\u001b[0;32m    168\u001b[0m             \u001b[1;31m#Output storage\u001b[0m\u001b[1;33m\u001b[0m\u001b[1;33m\u001b[0m\u001b[0m\n",
      "\u001b[1;32mC:\\Users\\mimim\\AppData\\Local\\conda\\conda\\envs\\proj\\lib\\site-packages\\MySQLdb\\cursors.pyc\u001b[0m in \u001b[0;36mexecute\u001b[1;34m(self, query, args)\u001b[0m\n\u001b[0;32m    203\u001b[0m             \u001b[1;32mdel\u001b[0m \u001b[0mtb\u001b[0m\u001b[1;33m\u001b[0m\u001b[0m\n\u001b[0;32m    204\u001b[0m             \u001b[0mself\u001b[0m\u001b[1;33m.\u001b[0m\u001b[0mmessages\u001b[0m\u001b[1;33m.\u001b[0m\u001b[0mappend\u001b[0m\u001b[1;33m(\u001b[0m\u001b[1;33m(\u001b[0m\u001b[0mexc\u001b[0m\u001b[1;33m,\u001b[0m \u001b[0mvalue\u001b[0m\u001b[1;33m)\u001b[0m\u001b[1;33m)\u001b[0m\u001b[1;33m\u001b[0m\u001b[0m\n\u001b[1;32m--> 205\u001b[1;33m             \u001b[0mself\u001b[0m\u001b[1;33m.\u001b[0m\u001b[0merrorhandler\u001b[0m\u001b[1;33m(\u001b[0m\u001b[0mself\u001b[0m\u001b[1;33m,\u001b[0m \u001b[0mexc\u001b[0m\u001b[1;33m,\u001b[0m \u001b[0mvalue\u001b[0m\u001b[1;33m)\u001b[0m\u001b[1;33m\u001b[0m\u001b[0m\n\u001b[0m\u001b[0;32m    206\u001b[0m         \u001b[0mself\u001b[0m\u001b[1;33m.\u001b[0m\u001b[0m_executed\u001b[0m \u001b[1;33m=\u001b[0m \u001b[0mquery\u001b[0m\u001b[1;33m\u001b[0m\u001b[0m\n\u001b[0;32m    207\u001b[0m         \u001b[1;32mif\u001b[0m \u001b[1;32mnot\u001b[0m \u001b[0mself\u001b[0m\u001b[1;33m.\u001b[0m\u001b[0m_defer_warnings\u001b[0m\u001b[1;33m:\u001b[0m \u001b[0mself\u001b[0m\u001b[1;33m.\u001b[0m\u001b[0m_warning_check\u001b[0m\u001b[1;33m(\u001b[0m\u001b[1;33m)\u001b[0m\u001b[1;33m\u001b[0m\u001b[0m\n",
      "\u001b[1;32mC:\\Users\\mimim\\AppData\\Local\\conda\\conda\\envs\\proj\\lib\\site-packages\\MySQLdb\\connections.pyc\u001b[0m in \u001b[0;36mdefaulterrorhandler\u001b[1;34m(***failed resolving arguments***)\u001b[0m\n\u001b[0;32m     34\u001b[0m     \u001b[1;32mdel\u001b[0m \u001b[0mcursor\u001b[0m\u001b[1;33m\u001b[0m\u001b[0m\n\u001b[0;32m     35\u001b[0m     \u001b[1;32mdel\u001b[0m \u001b[0mconnection\u001b[0m\u001b[1;33m\u001b[0m\u001b[0m\n\u001b[1;32m---> 36\u001b[1;33m     \u001b[1;32mraise\u001b[0m \u001b[0merrorclass\u001b[0m\u001b[1;33m,\u001b[0m \u001b[0merrorvalue\u001b[0m\u001b[1;33m\u001b[0m\u001b[0m\n\u001b[0m\u001b[0;32m     37\u001b[0m \u001b[1;33m\u001b[0m\u001b[0m\n\u001b[0;32m     38\u001b[0m \u001b[0mre_numeric_part\u001b[0m \u001b[1;33m=\u001b[0m \u001b[0mre\u001b[0m\u001b[1;33m.\u001b[0m\u001b[0mcompile\u001b[0m\u001b[1;33m(\u001b[0m\u001b[1;34mr\"^(\\d+)\"\u001b[0m\u001b[1;33m)\u001b[0m\u001b[1;33m\u001b[0m\u001b[0m\n",
      "\u001b[1;31mIntegrityError\u001b[0m: (1452, 'Cannot add or update a child row: a foreign key constraint fails (`proj`.`streams`, CONSTRAINT `streams_ibfk_2` FOREIGN KEY (`category_id`) REFERENCES `categories` (`id`) ON DELETE CASCADE)')"
     ]
    }
   ],
   "source": [
    "#Spin up browser\n",
    "driver = webdriver.Chrome()\n",
    "\n",
    "#Number of times to scroll down a page at a time\n",
    "scrolls = 5\n",
    "\n",
    "#Time to sleep between scrolls\n",
    "sleeptime = 0.5\n",
    "\n",
    "#Used for output formatting\n",
    "out_width = 72\n",
    "\n",
    "#Iterate over each category\n",
    "for c in category_map:\n",
    "    output_separation(c, \" \", 8, out_width)\n",
    "    start = time()\n",
    "    #Load up page\n",
    "    driver.get(category_map[c][\"url\"])\n",
    "    \n",
    "    #Streams for storage\n",
    "    streams = []\n",
    "    stream_map = {}\n",
    "    \n",
    "    try:\n",
    "        #Wait for page to load at least 1 stream\n",
    "        element = WebDriverWait(driver, 5).until(\n",
    "                EC.presence_of_element_located((By.CLASS_NAME, \"stream-thumbnail\")))\n",
    "        \n",
    "        #Loop to get more streams\n",
    "        output_separation(\"COLLECTING STREAM EVENTS\", \"|\", 4, out_width)\n",
    "        prev_stream_count = -1\n",
    "        while True:            \n",
    "            #Assign global scrollable element for access through other scripts\n",
    "            scroll_script = \"\"\"\n",
    "            window.s = document.getElementsByClassName(\"root-scrollable__wrapper\")[0].parentElement.parentElement;\n",
    "            \"\"\"\n",
    "            driver.execute_script(scroll_script)\n",
    "            \n",
    "            #Scroll\n",
    "            scroll_script = \"\"\"\n",
    "            window.s.scrollTo(0, window.s.scrollHeight);\n",
    "            \"\"\"\n",
    "            output_separation(\"SCROLLING FOR {}s\".format(scrolls * sleeptime), \"#\", 0, out_width)\n",
    "            for i in range(scrolls):\n",
    "                driver.execute_script(scroll_script)\n",
    "                sleep(sleeptime)\n",
    "                \n",
    "            #Find streams\n",
    "            streams = driver.find_elements_by_class_name(\"live-channel-card__videos\")\n",
    "            #Find text in parent containing concurrent viewers\n",
    "            streams = map(lambda e: e.find_element_by_xpath(\"..\").text, streams)\n",
    "            \n",
    "            #If last stream obtained has 0 viewers, break\n",
    "            if prev_stream_count == len(streams):\n",
    "                break\n",
    "            prev_stream_count = len(streams)\n",
    "    finally:\n",
    "        output_separation(\"RETRIEVAL AND UNWRAPPING: {}s\".format(time() - start), \"~\", 1, out_width)\n",
    "    \n",
    "    #Iterate over streams\n",
    "    output_separation(\"SCRAPING STREAM DATA\", \"-\", 4, out_width)\n",
    "    for s in streams:\n",
    "        #Add kvp mapping for streamer\n",
    "        streamer = s.split(\" \")[-1]\n",
    "        #Foreign players with non-english characters have \"(name_here)\"\n",
    "        if \"(\" in streamer:\n",
    "            streamer = streamer[1:-1]\n",
    "        \n",
    "        #Load up page\n",
    "        print(\"{}\".ljust(40 - len(streamer), \" \").format(streamer)),\n",
    "        driver.get(stream_string.format(streamer))\n",
    "        try:\n",
    "            #Wait for page to load total viewer count\n",
    "            #element = WebDriverWait(driver, 5).until(\n",
    "            #        EC.text_to_be_present_in_element((By.CLASS_NAME, \"tw-stat__value\")))\n",
    "            sleep(1)\n",
    "            \n",
    "            #Record stats\n",
    "            #Followers\n",
    "            top_stats = driver.find_elements_by_class_name(\"channel-header__item-count\")\n",
    "            if len(top_stats) == 0:\n",
    "                #Channel lookup error or banned (banned unlikely)\n",
    "                print(\"[BANNED->SKIPPED]\")\n",
    "                continue\n",
    "            followers = twitch_numberfy(\n",
    "                top_stats[1].find_element_by_tag_name(\"span\").get_attribute(\"innerHTML\"))\n",
    "            #Current viewers and total views\n",
    "            bottom_stats = driver.find_elements_by_class_name(\"tw-stat__value\")\n",
    "            if len(bottom_stats) == 0:\n",
    "                #Hosting, so skip\n",
    "                print(\"[HOSTING->SKIPPED]\")\n",
    "                continue\n",
    "            elif len(bottom_stats) == 1:\n",
    "                #Offline, so skip\n",
    "                print(\"[OFFLINE->SKIPPED]\")\n",
    "                continue\n",
    "            current_viewers = twitch_numberfy(bottom_stats[0].get_attribute(\"innerHTML\"))\n",
    "            total_views = twitch_numberfy(bottom_stats[1].get_attribute(\"innerHTML\"))\n",
    "            \n",
    "            #Store in dictionary\n",
    "            stream_map[streamer] = {\n",
    "                \"followers\": followers,\n",
    "                \"current_viewers\": current_viewers,\n",
    "                \"total_views\": total_views\n",
    "            }\n",
    "            print(\"[DONE]\")\n",
    "            print(\"\\tfollowers: {}\\n\\tcurrent_viewers: {}\\n\\ttotal_views: {}\".format(\n",
    "                followers,\n",
    "                current_viewers,\n",
    "                total_views\n",
    "            ))\n",
    "        except (RuntimeError, TypeError, NameError):\n",
    "            print(\"[ERROR->SKIPPED]\")\n",
    "            \n",
    "    #Write streams and streamers to database\n",
    "    output_separation(\"STORING EVENTS AND STREAMERS\", \"*\", 4, out_width)\n",
    "    try:\n",
    "        #Connect\n",
    "        con = mdb.connect(host=db_host, user=db_user, passwd=db_pass, db=db_name)\n",
    "        #Set autocommit (otherwise inserts won't be propogated to database)\n",
    "        con.autocommit(True)\n",
    "        cur = con.cursor(mdb.cursors.DictCursor)\n",
    "        \n",
    "        #Iterate over streams for this category\n",
    "        category_id = category_map[c][\"primary_key\"]\n",
    "        for k,v in stream_map.iteritems():\n",
    "            #k is streamer (twitch name)\n",
    "            #v is dictionary holding followers, current_viewers, and total_views\n",
    "            \n",
    "            #Get streamer ids. If the streamer is undiscovered/new, create\n",
    "            #a database entry first\n",
    "            sql = \"\"\"\n",
    "            SELECT * FROM streamers WHERE streamer='{}'\n",
    "            \"\"\".format(k)\n",
    "            result = cur.execute(sql)\n",
    "            #print(\"Result: {}\".format(result))\n",
    "\n",
    "            streamer_id = -1\n",
    "            #If 0 < result, then streamer already has an entry, so get their primary key\n",
    "            if 0 < result:\n",
    "                #Only 1 can exist, the varchar is unique\n",
    "                streamer_id = cur.fetchall()[0][\"id\"]\n",
    "            #Otherwise, this is a new streamer\n",
    "            else:\n",
    "                #Insert new entry\n",
    "                sql = \"\"\"\n",
    "                INSERT INTO streamers (streamer) VALUES ('{}')\n",
    "                \"\"\".format(k)\n",
    "                cur.execute(sql)\n",
    "                #Get primary key of last row inserted into ANY table\n",
    "                streamer_id = cur.lastrowid\n",
    "            \n",
    "            #Streamer information has been obtained (and added if necessary).\n",
    "            #Create stream event entry\n",
    "            sql = \"\"\"\n",
    "            INSERT INTO streams\n",
    "                (current_viewers, followers, total_views, streamer_id, category_id)\n",
    "                VALUES\n",
    "                ({}, {}, {}, {}, {})\n",
    "            \"\"\".format(\n",
    "                v[\"current_viewers\"],\n",
    "                v[\"followers\"],\n",
    "                v[\"total_views\"],\n",
    "                streamer_id,\n",
    "                category_id)\n",
    "            cur.execute(sql)\n",
    "            \n",
    "            #Output storage\n",
    "            print(\"{}\".ljust(40 - len(k), \" \").format(k)),\n",
    "            print(\"[OKAY]\")\n",
    "    finally:\n",
    "        if con:\n",
    "            con.close()\n",
    "#Close browser\n",
    "driver.close()"
   ]
  },
  {
   "cell_type": "code",
   "execution_count": null,
   "metadata": {
    "collapsed": true
   },
   "outputs": [],
   "source": [
    "print(\"total time: {}s\".format(time() - first_time))"
   ]
  }
 ],
 "metadata": {
  "kernelspec": {
   "display_name": "Python 2",
   "language": "python",
   "name": "python2"
  },
  "language_info": {
   "codemirror_mode": {
    "name": "ipython",
    "version": 2
   },
   "file_extension": ".py",
   "mimetype": "text/x-python",
   "name": "python",
   "nbconvert_exporter": "python",
   "pygments_lexer": "ipython2",
   "version": "2.7.13"
  }
 },
 "nbformat": 4,
 "nbformat_minor": 2
}
