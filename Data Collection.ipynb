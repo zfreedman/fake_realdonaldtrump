{
 "cells": [
  {
   "cell_type": "markdown",
   "metadata": {},
   "source": [
    "# Data Collection\n",
    "This noteboook is responsible for (finish later)"
   ]
  },
  {
   "cell_type": "markdown",
   "metadata": {},
   "source": [
    "## Imports"
   ]
  },
  {
   "cell_type": "code",
   "execution_count": 82,
   "metadata": {
    "collapsed": true
   },
   "outputs": [],
   "source": [
    "#SQL connection and queries\n",
    "import MySQLdb as mdb\n",
    "#Connection failure exiting\n",
    "import sys\n",
    "#Getting current time (after data is scraped) for stream table\n",
    "from time import time, sleep\n",
    "#Scraping\n",
    "import urllib2\n",
    "#Web automation\n",
    "from selenium import webdriver\n",
    "from selenium.webdriver.common.by import By\n",
    "from selenium.webdriver.support.ui import WebDriverWait\n",
    "from selenium.webdriver.support import expected_conditions as EC"
   ]
  },
  {
   "cell_type": "markdown",
   "metadata": {},
   "source": [
    "## File data\n",
    "Below the database credentials are read in. These are used for logging into the database, creating the necessary tables (if not already created), and storing data."
   ]
  },
  {
   "cell_type": "code",
   "execution_count": 83,
   "metadata": {
    "collapsed": true
   },
   "outputs": [],
   "source": [
    "db_user = \"\"\n",
    "db_pass = \"\"\n",
    "db_name = \"\"\n",
    "db_host = \"localhost\"\n",
    "with open(\"database_credentials.txt\") as f:\n",
    "    db_user = f.readline().strip()\n",
    "    db_pass = f.readline().strip()\n",
    "    db_name = f.readline().strip()"
   ]
  },
  {
   "cell_type": "markdown",
   "metadata": {},
   "source": [
    "## Database"
   ]
  },
  {
   "cell_type": "markdown",
   "metadata": {},
   "source": [
    "### Table Creation\n",
    "The below functions create the necessary tables for data storage if they do not already exist."
   ]
  },
  {
   "cell_type": "code",
   "execution_count": 109,
   "metadata": {},
   "outputs": [],
   "source": [
    "con = mdb.connect(host=db_host, user=db_user, passwd=db_pass, db=db_name)\n",
    "\n",
    "with con:\n",
    "    cur = con.cursor()\n",
    "\n",
    "    #Twitch game/creative/irl categories\n",
    "    sql = \"\"\"\n",
    "    CREATE TABLE IF NOT EXISTS search_tweets (\n",
    "        id INT PRIMARY KEY AUTO_INCREMENT,\n",
    "        message VARCHAR(1024) NOT NULL\n",
    "    )\n",
    "    \"\"\"\n",
    "    cur.execute(sql)"
   ]
  },
  {
   "cell_type": "markdown",
   "metadata": {},
   "source": [
    "### URL strings"
   ]
  },
  {
   "cell_type": "code",
   "execution_count": 104,
   "metadata": {
    "collapsed": true
   },
   "outputs": [],
   "source": [
    "#String for vieweing all current streams for a specified category\n",
    "twitter_profile_string = \"https://twitter.com/realdonaldtrump\"\n",
    "twitter_search_string = \"https://twitter.com/search?q=from%3Arealdonaldtrump&src=typd\""
   ]
  },
  {
   "cell_type": "markdown",
   "metadata": {},
   "source": [
    "## Data collection"
   ]
  },
  {
   "cell_type": "markdown",
   "metadata": {},
   "source": [
    "### Scraping\n",
    "(finish later)"
   ]
  },
  {
   "cell_type": "code",
   "execution_count": 110,
   "metadata": {},
   "outputs": [
    {
     "name": "stdout",
     "output_type": "stream",
     "text": [
      "0: -1 | 4630\n",
      "1: 4630 | 9050\n",
      "2: 9050 | 13026\n",
      "3: 13026 | 16776\n",
      "4: 16776 | 22202\n",
      "5: 22202 | 22946\n",
      "6: 22946 | 24046\n",
      "7: 24046 | 26988\n",
      "8: 26988 | 31450\n",
      "9: 31450 | 34945\n",
      "10: 34945 | 40432\n",
      "11: 40432 | 44425\n",
      "12: 44425 | 50050\n",
      "13: 50050 | 52636\n",
      "14: 52636 | 57092\n",
      "15: 57092 | 61657\n",
      "16: 61657 | 64989\n",
      "17: 64989 | 70048\n",
      "18: 70048 | 75222\n",
      "19: 75222 | 78767\n",
      "20: 78767 | 82236\n",
      "21: 82236 | 87005\n",
      "22: 87005 | 90801\n",
      "23: 90801 | 94632\n",
      "24: 94632 | 99949\n",
      "25: 99949 | 106209\n",
      "26: 106209 | 110639\n",
      "27: 110639 | 117551\n",
      "28: 117551 | 121154\n",
      "29: 121154 | 126427\n",
      "30: 126427 | 131387\n",
      "31: 131387 | 135452\n",
      "32: 135452 | 139228\n",
      "33: 139228 | 143413\n",
      "34: 143413 | 147027\n",
      "35: 147027 | 151189\n",
      "36: 151189 | 158722\n",
      "37: 158722 | 162743\n",
      "38: 162743 | 166788\n",
      "39: 166788 | 171234\n",
      "40: 171234 | 174684\n",
      "41: 174684 | 178616\n",
      "42: 178616 | 183012\n",
      "43: 183012 | 187530\n",
      "44: 187530 | 190559\n",
      "45: 190559 | 194005\n",
      "46: 194005 | 199541\n",
      "47: 199541 | 204103\n",
      "48: 204103 | 208139\n",
      "49: 208139 | 212500\n",
      "50: 212500 | 215332\n",
      "51: 215332 | 218045\n",
      "52: 218045 | 222057\n",
      "53: 222057 | 225400\n",
      "54: 225400 | 229176\n",
      "55: 229176 | 233954\n",
      "56: 233954 | 236839\n",
      "57: 236839 | 239568\n",
      "58: 239568 | 243484\n",
      "59: 243484 | 247438\n",
      "60: 247438 | 253196\n",
      "61: 253196 | 257767\n",
      "62: 257767 | 262301\n",
      "63: 262301 | 267860\n",
      "64: 267860 | 271359\n",
      "65: 271359 | 274863\n",
      "66: 274863 | 278259\n",
      "67: 278259 | 282715\n",
      "68: 282715 | 288040\n",
      "69: 288040 | 291210\n",
      "70: 291210 | 294428\n",
      "71: 294428 | 299309\n",
      "72: 299309 | 302326\n",
      "73: 302326 | 306270\n",
      "74: 306270 | 311321\n",
      "75: 311321 | 314550\n",
      "76: 314550 | 318304\n",
      "77: 318304 | 322288\n",
      "78: 322288 | 327039\n",
      "79: 327039 | 331883\n",
      "80: 331883 | 334606\n",
      "81: 334606 | 339715\n",
      "82: 339715 | 343365\n",
      "83: 343365 | 347124\n",
      "84: 347124 | 351320\n",
      "85: 351320 | 355845\n",
      "86: 355845 | 361085\n",
      "87: 361085 | 364806\n",
      "88: 364806 | 369097\n",
      "89: 369097 | 371961\n",
      "90: 371961 | 376323\n",
      "91: 376323 | 379783\n",
      "92: 379783 | 384538\n",
      "93: 384538 | 388056\n",
      "94: 388056 | 391885\n",
      "95: 391885 | 394053\n",
      "96: 394053 | 398587\n",
      "97: 398587 | 404460\n",
      "98: 404460 | 408708\n",
      "99: 408708 | 411921\n",
      "100: 411921 | 416219\n",
      "101: 416219 | 419919\n",
      "102: 419919 | 424105\n",
      "103: 424105 | 427289\n",
      "104: 427289 | 432193\n",
      "105: 432193 | 435374\n",
      "106: 435374 | 439009\n",
      "107: 439009 | 443998\n",
      "108: 443998 | 449574\n",
      "109: 449574 | 454034\n",
      "110: 454034 | 459257\n",
      "111: 459257 | 463521\n",
      "112: 463521 | 468156\n",
      "113: 468156 | 471304\n",
      "114: 471304 | 475651\n",
      "115: 475651 | 478452\n",
      "116: 478452 | 481308\n",
      "117: 481308 | 487328\n",
      "118: 487328 | 490794\n",
      "119: 490794 | 495327\n",
      "120: 495327 | 497856\n",
      "121: 497856 | 500352\n",
      "122: 500352 | 503154\n",
      "123: 503154 | 508112\n",
      "124: 508112 | 511534\n",
      "125: 511534 | 515841\n",
      "126: 515841 | 518357\n",
      "127: 518357 | 520465\n",
      "128: 520465 | 524847\n",
      "129: 524847 | 527207\n",
      "130: 527207 | 529703\n",
      "131: 529703 | 532951\n",
      "132: 532951 | 536784\n",
      "133: 536784 | 538964\n",
      "134: 538964 | 542775\n",
      "135: 542775 | 546815\n",
      "136: 546815 | 551648\n",
      "137: 551648 | 555534\n",
      "138: 555534 | 559305\n",
      "139: 559305 | 561868\n",
      "140: 561868 | 564914\n",
      "141: 564914 | 567300\n",
      "142: 567300 | 570865\n",
      "143: 570865 | 577413\n",
      "144: 577413 | 587011\n",
      "145: 587011 | 593568\n",
      "Collecting tweets\n",
      "Mapping tweets\n",
      "Storing tweets\n",
      "Complete\n"
     ]
    }
   ],
   "source": [
    "# Spin up browser\n",
    "driver = webdriver.Chrome()\n",
    "driver.get(twitter_search_string)\n",
    "\n",
    "#Time between scrolls (wait for tweets to load)\n",
    "time_between_scrolls = 1\n",
    "\n",
    "#JavaScript to scroll down page\n",
    "scroll_script = \"\"\"\n",
    "window.scrollTo(0, document.body.scrollHeight);\n",
    "\"\"\"\n",
    "\n",
    "count = 0\n",
    "#Body and previous scrollable height\n",
    "body = driver.find_element_by_tag_name(\"body\")\n",
    "prev_height = -1\n",
    "#Scroll until all tweets loaded (no older tweets are added via scrolling)\n",
    "while prev_height != body.get_attribute(\"scrollHeight\"):\n",
    "    curr_height = body.get_attribute(\"scrollHeight\")\n",
    "    print(\"{}: {} | {}\".format(count, prev_height, curr_height))\n",
    "    prev_height = curr_height\n",
    "    driver.execute_script(scroll_script)\n",
    "    sleep(time_between_scrolls)\n",
    "    count += 1\n",
    "        \n",
    "#Get tweets\n",
    "print(\"Collecting tweets\")\n",
    "tweets = driver.find_elements_by_class_name(\"js-tweet-text\")\n",
    "#Sanitize\n",
    "print(\"Mapping tweets\")\n",
    "tweetsText = map(\n",
    "    lambda e : \" \".join((e.get_attribute(\"innerText\").encode('ascii', 'ignore').replace(\"\\n\", \" \")).split()),\n",
    "    tweets)\n",
    "\n",
    "#Close browser\n",
    "driver.close()\n",
    "\n",
    "#Store in MySQL\n",
    "print(\"Storing tweets\")\n",
    "con = mdb.connect(host=db_host, user=db_user, passwd=db_pass, db=db_name)\n",
    "con.autocommit(True)\n",
    "with con:\n",
    "    cur = con.cursor()\n",
    "    sql = \"\"\"\n",
    "    INSERT INTO search_tweets (message) VALUES ('{}')\n",
    "    \"\"\"\n",
    "    for t in tweetsText:\n",
    "        cur.execute((sql.format(con.escape_string(t))))\n",
    "print(\"Complete\")"
   ]
  }
 ],
 "metadata": {
  "kernelspec": {
   "display_name": "Python 2",
   "language": "python",
   "name": "python2"
  },
  "language_info": {
   "codemirror_mode": {
    "name": "ipython",
    "version": 2
   },
   "file_extension": ".py",
   "mimetype": "text/x-python",
   "name": "python",
   "nbconvert_exporter": "python",
   "pygments_lexer": "ipython2",
   "version": "2.7.13"
  }
 },
 "nbformat": 4,
 "nbformat_minor": 2
}
